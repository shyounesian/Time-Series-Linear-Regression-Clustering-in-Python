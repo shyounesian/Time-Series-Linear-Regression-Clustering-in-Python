{
 "cells": [
  {
   "cell_type": "markdown",
   "id": "793818f9",
   "metadata": {},
   "source": [
    "## Contents\n",
    "### Importing Libs\n",
    "### Importing Dmataset\n",
    "### Extreme values checks\n",
    "### Data Prep for Regression Analysis\n",
    "### Regression Analysis\n",
    "### Regression Analysis After Excluding Outliers\n",
    "### Regression Analysis Conclusion"
   ]
  },
  {
   "cell_type": "markdown",
   "id": "17ea681e",
   "metadata": {},
   "source": [
    "## Importing Libs"
   ]
  },
  {
   "cell_type": "code",
   "execution_count": 1,
   "id": "49b048da",
   "metadata": {},
   "outputs": [],
   "source": [
    "import pandas as pd\n",
    "import numpy as np\n",
    "import seaborn as sns\n",
    "import matplotlib\n",
    "import matplotlib.pyplot as plt\n",
    "import os\n",
    "import sklearn\n",
    "from sklearn.model_selection import train_test_split \n",
    "from sklearn.linear_model import LinearRegression\n",
    "from sklearn.metrics import mean_squared_error, r2_score"
   ]
  },
  {
   "cell_type": "code",
   "execution_count": 2,
   "id": "28d7364f",
   "metadata": {},
   "outputs": [],
   "source": [
    "%matplotlib inline"
   ]
  },
  {
   "cell_type": "markdown",
   "id": "e115e721",
   "metadata": {},
   "source": [
    "## Importing Dataset"
   ]
  },
  {
   "cell_type": "code",
   "execution_count": 3,
   "id": "195dbbe4",
   "metadata": {},
   "outputs": [],
   "source": [
    "path = r'C:\\Users\\shyou\\OneDrive\\Documents\\Data Analitics Course\\Achievement6\\Global SuperStore Project'"
   ]
  },
  {
   "cell_type": "code",
   "execution_count": 4,
   "id": "72be2deb",
   "metadata": {},
   "outputs": [],
   "source": [
    "df = pd.read_csv(os.path.join(path, '02 Data', 'Prepared Data' , 'GlobalSuperstore_clean.csv'))"
   ]
  },
  {
   "cell_type": "code",
   "execution_count": null,
   "id": "c39350e9",
   "metadata": {},
   "outputs": [],
   "source": []
  },
  {
   "cell_type": "code",
   "execution_count": 5,
   "id": "6c1a8240",
   "metadata": {},
   "outputs": [
    {
     "data": {
      "text/html": [
       "<div>\n",
       "<style scoped>\n",
       "    .dataframe tbody tr th:only-of-type {\n",
       "        vertical-align: middle;\n",
       "    }\n",
       "\n",
       "    .dataframe tbody tr th {\n",
       "        vertical-align: top;\n",
       "    }\n",
       "\n",
       "    .dataframe thead th {\n",
       "        text-align: right;\n",
       "    }\n",
       "</style>\n",
       "<table border=\"1\" class=\"dataframe\">\n",
       "  <thead>\n",
       "    <tr style=\"text-align: right;\">\n",
       "      <th></th>\n",
       "      <th>Unnamed: 0.1</th>\n",
       "      <th>Unnamed: 0</th>\n",
       "      <th>id</th>\n",
       "      <th>order_id</th>\n",
       "      <th>order_date</th>\n",
       "      <th>ship_mode</th>\n",
       "      <th>customer_id</th>\n",
       "      <th>segment</th>\n",
       "      <th>city</th>\n",
       "      <th>state</th>\n",
       "      <th>...</th>\n",
       "      <th>category</th>\n",
       "      <th>Sub_category</th>\n",
       "      <th>sales</th>\n",
       "      <th>quantity</th>\n",
       "      <th>discount</th>\n",
       "      <th>profit</th>\n",
       "      <th>shipping_cost</th>\n",
       "      <th>year</th>\n",
       "      <th>month</th>\n",
       "      <th>sales_category</th>\n",
       "    </tr>\n",
       "  </thead>\n",
       "  <tbody>\n",
       "    <tr>\n",
       "      <th>0</th>\n",
       "      <td>0</td>\n",
       "      <td>0</td>\n",
       "      <td>1</td>\n",
       "      <td>MX-2014-143658</td>\n",
       "      <td>2014-02-10</td>\n",
       "      <td>Standard Class</td>\n",
       "      <td>SC-20575</td>\n",
       "      <td>Consumer</td>\n",
       "      <td>Mexico City</td>\n",
       "      <td>Distrito Federal</td>\n",
       "      <td>...</td>\n",
       "      <td>Office Supplies</td>\n",
       "      <td>Labels</td>\n",
       "      <td>13.08</td>\n",
       "      <td>3</td>\n",
       "      <td>0.0</td>\n",
       "      <td>4.56</td>\n",
       "      <td>1.03</td>\n",
       "      <td>2014</td>\n",
       "      <td>2</td>\n",
       "      <td>Low</td>\n",
       "    </tr>\n",
       "    <tr>\n",
       "      <th>1</th>\n",
       "      <td>1</td>\n",
       "      <td>1</td>\n",
       "      <td>2</td>\n",
       "      <td>MX-2012-155047</td>\n",
       "      <td>2012-10-15</td>\n",
       "      <td>Standard Class</td>\n",
       "      <td>KW-16570</td>\n",
       "      <td>Consumer</td>\n",
       "      <td>Dos Quebradas</td>\n",
       "      <td>Risaralda</td>\n",
       "      <td>...</td>\n",
       "      <td>Furniture</td>\n",
       "      <td>Furnishings</td>\n",
       "      <td>252.16</td>\n",
       "      <td>8</td>\n",
       "      <td>0.0</td>\n",
       "      <td>90.72</td>\n",
       "      <td>13.45</td>\n",
       "      <td>2012</td>\n",
       "      <td>10</td>\n",
       "      <td>Low</td>\n",
       "    </tr>\n",
       "    <tr>\n",
       "      <th>2</th>\n",
       "      <td>2</td>\n",
       "      <td>2</td>\n",
       "      <td>3</td>\n",
       "      <td>MX-2012-155047</td>\n",
       "      <td>2012-10-15</td>\n",
       "      <td>Standard Class</td>\n",
       "      <td>KW-16570</td>\n",
       "      <td>Consumer</td>\n",
       "      <td>Dos Quebradas</td>\n",
       "      <td>Risaralda</td>\n",
       "      <td>...</td>\n",
       "      <td>Furniture</td>\n",
       "      <td>Bookcases</td>\n",
       "      <td>193.28</td>\n",
       "      <td>2</td>\n",
       "      <td>0.0</td>\n",
       "      <td>54.08</td>\n",
       "      <td>9.63</td>\n",
       "      <td>2012</td>\n",
       "      <td>10</td>\n",
       "      <td>Low</td>\n",
       "    </tr>\n",
       "    <tr>\n",
       "      <th>3</th>\n",
       "      <td>3</td>\n",
       "      <td>3</td>\n",
       "      <td>4</td>\n",
       "      <td>MX-2012-155047</td>\n",
       "      <td>2012-10-15</td>\n",
       "      <td>Standard Class</td>\n",
       "      <td>KW-16570</td>\n",
       "      <td>Consumer</td>\n",
       "      <td>Dos Quebradas</td>\n",
       "      <td>Risaralda</td>\n",
       "      <td>...</td>\n",
       "      <td>Office Supplies</td>\n",
       "      <td>Binders</td>\n",
       "      <td>35.44</td>\n",
       "      <td>4</td>\n",
       "      <td>0.0</td>\n",
       "      <td>4.96</td>\n",
       "      <td>1.37</td>\n",
       "      <td>2012</td>\n",
       "      <td>10</td>\n",
       "      <td>Low</td>\n",
       "    </tr>\n",
       "    <tr>\n",
       "      <th>4</th>\n",
       "      <td>4</td>\n",
       "      <td>4</td>\n",
       "      <td>5</td>\n",
       "      <td>MX-2012-155047</td>\n",
       "      <td>2012-10-15</td>\n",
       "      <td>Standard Class</td>\n",
       "      <td>KW-16570</td>\n",
       "      <td>Consumer</td>\n",
       "      <td>Dos Quebradas</td>\n",
       "      <td>Risaralda</td>\n",
       "      <td>...</td>\n",
       "      <td>Office Supplies</td>\n",
       "      <td>Art</td>\n",
       "      <td>71.60</td>\n",
       "      <td>2</td>\n",
       "      <td>0.0</td>\n",
       "      <td>11.44</td>\n",
       "      <td>3.79</td>\n",
       "      <td>2012</td>\n",
       "      <td>10</td>\n",
       "      <td>Low</td>\n",
       "    </tr>\n",
       "  </tbody>\n",
       "</table>\n",
       "<p>5 rows × 23 columns</p>\n",
       "</div>"
      ],
      "text/plain": [
       "   Unnamed: 0.1  Unnamed: 0  id        order_id  order_date       ship_mode  \\\n",
       "0             0           0   1  MX-2014-143658  2014-02-10  Standard Class   \n",
       "1             1           1   2  MX-2012-155047  2012-10-15  Standard Class   \n",
       "2             2           2   3  MX-2012-155047  2012-10-15  Standard Class   \n",
       "3             3           3   4  MX-2012-155047  2012-10-15  Standard Class   \n",
       "4             4           4   5  MX-2012-155047  2012-10-15  Standard Class   \n",
       "\n",
       "  customer_id   segment           city             state  ...  \\\n",
       "0    SC-20575  Consumer    Mexico City  Distrito Federal  ...   \n",
       "1    KW-16570  Consumer  Dos Quebradas         Risaralda  ...   \n",
       "2    KW-16570  Consumer  Dos Quebradas         Risaralda  ...   \n",
       "3    KW-16570  Consumer  Dos Quebradas         Risaralda  ...   \n",
       "4    KW-16570  Consumer  Dos Quebradas         Risaralda  ...   \n",
       "\n",
       "          category Sub_category   sales quantity discount  profit  \\\n",
       "0  Office Supplies       Labels   13.08        3      0.0    4.56   \n",
       "1        Furniture  Furnishings  252.16        8      0.0   90.72   \n",
       "2        Furniture    Bookcases  193.28        2      0.0   54.08   \n",
       "3  Office Supplies      Binders   35.44        4      0.0    4.96   \n",
       "4  Office Supplies          Art   71.60        2      0.0   11.44   \n",
       "\n",
       "   shipping_cost  year  month  sales_category  \n",
       "0           1.03  2014      2             Low  \n",
       "1          13.45  2012     10             Low  \n",
       "2           9.63  2012     10             Low  \n",
       "3           1.37  2012     10             Low  \n",
       "4           3.79  2012     10             Low  \n",
       "\n",
       "[5 rows x 23 columns]"
      ]
     },
     "execution_count": 5,
     "metadata": {},
     "output_type": "execute_result"
    }
   ],
   "source": [
    "df.head()"
   ]
  },
  {
   "cell_type": "code",
   "execution_count": 6,
   "id": "9f87cd40",
   "metadata": {},
   "outputs": [],
   "source": [
    "df.drop(['Unnamed: 0', 'Unnamed: 0.1'] , axis = 1, inplace = True)"
   ]
  },
  {
   "cell_type": "markdown",
   "id": "86094f30",
   "metadata": {},
   "source": [
    "## Extreme values checks"
   ]
  },
  {
   "cell_type": "code",
   "execution_count": 8,
   "id": "c2b92b52",
   "metadata": {},
   "outputs": [
    {
     "data": {
      "text/plain": [
       "<AxesSubplot:xlabel='sales', ylabel='Count'>"
      ]
     },
     "execution_count": 8,
     "metadata": {},
     "output_type": "execute_result"
    },
    {
     "data": {
      "image/png": "[encoded data removed]",
      "text/plain": [
       "<Figure size 640x480 with 1 Axes>"
      ]
     },
     "metadata": {},
     "output_type": "display_data"
    }
   ],
   "source": [
    "sns.histplot(df['sales'], bins=70, kde = True)"
   ]
  },
  {
   "cell_type": "code",
   "execution_count": 9,
   "id": "183a4c9f",
   "metadata": {},
   "outputs": [
    {
     "data": {
      "text/plain": [
       "246.49058120258067"
      ]
     },
     "execution_count": 9,
     "metadata": {},
     "output_type": "execute_result"
    }
   ],
   "source": [
    "df['sales'].mean()"
   ]
  },
  {
   "cell_type": "code",
   "execution_count": 12,
   "id": "a8affeb1",
   "metadata": {},
   "outputs": [
    {
     "data": {
      "text/plain": [
       "85.053"
      ]
     },
     "execution_count": 12,
     "metadata": {},
     "output_type": "execute_result"
    }
   ],
   "source": [
    "df['sales'].median()"
   ]
  },
  {
   "cell_type": "code",
   "execution_count": 13,
   "id": "69707f6b",
   "metadata": {},
   "outputs": [
    {
     "data": {
      "text/plain": [
       "22638.48"
      ]
     },
     "execution_count": 13,
     "metadata": {},
     "output_type": "execute_result"
    }
   ],
   "source": [
    "df['sales'].max()"
   ]
  },
  {
   "cell_type": "markdown",
   "id": "bd4e5f02",
   "metadata": {},
   "source": [
    "## Data prep for regression analysis "
   ]
  },
  {
   "cell_type": "code",
   "execution_count": 14,
   "id": "2af8ae8b",
   "metadata": {},
   "outputs": [
    {
     "data": {
      "image/png": "[encoded data removed]",
      "text/plain": [
       "<Figure size 640x480 with 1 Axes>"
      ]
     },
     "metadata": {},
     "output_type": "display_data"
    }
   ],
   "source": [
    "# Create a scatterplot \n",
    "df.plot(x = 'sales', y='profit',style='o') \n",
    "plt.title('Profit vs Sales')  \n",
    "plt.xlabel('Sales')  \n",
    "plt.ylabel('Profit')  \n",
    "plt.show()"
   ]
  },
  {
   "cell_type": "code",
   "execution_count": 16,
   "id": "acfdec24",
   "metadata": {},
   "outputs": [],
   "source": [
    "# Create X, y Numpy arrays\n",
    "X = df['sales'].values.reshape(-1,1)\n",
    "y = df['profit'].values.reshape(-1,1)"
   ]
  },
  {
   "cell_type": "code",
   "execution_count": 18,
   "id": "7bd86c7d",
   "metadata": {},
   "outputs": [
    {
     "data": {
      "text/plain": [
       "array([[ 13.08],\n",
       "       [252.16],\n",
       "       [193.28],\n",
       "       ...,\n",
       "       [ 80.52],\n",
       "       [130.44],\n",
       "       [ 31.62]])"
      ]
     },
     "execution_count": 18,
     "metadata": {},
     "output_type": "execute_result"
    }
   ],
   "source": [
    "X "
   ]
  },
  {
   "cell_type": "code",
   "execution_count": 19,
   "id": "e3008c0e",
   "metadata": {},
   "outputs": [
    {
     "data": {
      "text/plain": [
       "array([[ 4.56],\n",
       "       [90.72],\n",
       "       [54.08],\n",
       "       ...,\n",
       "       [20.88],\n",
       "       [33.84],\n",
       "       [12.96]])"
      ]
     },
     "execution_count": 19,
     "metadata": {},
     "output_type": "execute_result"
    }
   ],
   "source": [
    "y"
   ]
  },
  {
   "cell_type": "code",
   "execution_count": 20,
   "id": "d7563f77",
   "metadata": {},
   "outputs": [],
   "source": [
    "# Create training set\n",
    "X_train, X_test, y_train, y_test = train_test_split(X, y, test_size = 0.3, random_state = 0)"
   ]
  },
  {
   "cell_type": "markdown",
   "id": "9093f760",
   "metadata": {},
   "source": [
    "## Regression Analysis"
   ]
  },
  {
   "cell_type": "code",
   "execution_count": 21,
   "id": "398d742d",
   "metadata": {},
   "outputs": [],
   "source": [
    "# Create Object\n",
    "regression = LinearRegression()"
   ]
  },
  {
   "cell_type": "code",
   "execution_count": 22,
   "id": "47f9cd3e",
   "metadata": {},
   "outputs": [
    {
     "data": {
      "text/plain": [
       "LinearRegression()"
      ]
     },
     "execution_count": 22,
     "metadata": {},
     "output_type": "execute_result"
    }
   ],
   "source": [
    "regression.fit(X_train, y_train)"
   ]
  },
  {
   "cell_type": "code",
   "execution_count": 23,
   "id": "ebbabf2c",
   "metadata": {},
   "outputs": [],
   "source": [
    "# Predict the values of y using X.\n",
    "\n",
    "y_predicted = regression.predict(X_test)"
   ]
  },
  {
   "cell_type": "code",
   "execution_count": 26,
   "id": "a98c845f",
   "metadata": {},
   "outputs": [
    {
     "data": {
      "image/png": "[encoded data removed]",
      "text/plain": [
       "<Figure size 640x480 with 1 Axes>"
      ]
     },
     "metadata": {},
     "output_type": "display_data"
    }
   ],
   "source": [
    "# Create a plot that shows the regression line from the model on the test set.\n",
    "\n",
    "plot_test = plt\n",
    "plot_test.scatter(X_test, y_test, color='gray', s = 20)\n",
    "plot_test.plot(X_test, y_predicted, color='red', linewidth =3)\n",
    "plot_test.title('Profit vs Sales(Test set)')\n",
    "plot_test.xlabel('Sales')\n",
    "plot_test.ylabel('Profit')\n",
    "plot_test.show()"
   ]
  },
  {
   "cell_type": "code",
   "execution_count": 27,
   "id": "6d2827e9",
   "metadata": {},
   "outputs": [],
   "source": [
    "#Create summary statistics.\n",
    "\n",
    "rmse = mean_squared_error(y_test, y_predicted) \n",
    "r2 = r2_score(y_test, y_predicted)"
   ]
  },
  {
   "cell_type": "code",
   "execution_count": 28,
   "id": "3d98a789",
   "metadata": {},
   "outputs": [
    {
     "name": "stdout",
     "output_type": "stream",
     "text": [
      "Slope: [[0.16747877]]\n",
      "Mean squared error:  26323.110426881132\n",
      "R2 score:  0.2573974344667528\n"
     ]
    }
   ],
   "source": [
    "print('Slope:' ,regression.coef_)\n",
    "print('Mean squared error: ', rmse)\n",
    "print('R2 score: ', r2)"
   ]
  },
  {
   "cell_type": "code",
   "execution_count": 29,
   "id": "5864e102",
   "metadata": {},
   "outputs": [
    {
     "data": {
      "text/plain": [
       "array([[ 30.25520037],\n",
       "       [338.06778591],\n",
       "       [-10.25322529],\n",
       "       ...,\n",
       "       [  0.95713382],\n",
       "       [ 28.26555255],\n",
       "       [  4.06219026]])"
      ]
     },
     "execution_count": 29,
     "metadata": {},
     "output_type": "execute_result"
    }
   ],
   "source": [
    "y_predicted"
   ]
  },
  {
   "cell_type": "code",
   "execution_count": 30,
   "id": "78b38852",
   "metadata": {},
   "outputs": [
    {
     "data": {
      "text/html": [
       "<div>\n",
       "<style scoped>\n",
       "    .dataframe tbody tr th:only-of-type {\n",
       "        vertical-align: middle;\n",
       "    }\n",
       "\n",
       "    .dataframe tbody tr th {\n",
       "        vertical-align: top;\n",
       "    }\n",
       "\n",
       "    .dataframe thead th {\n",
       "        text-align: right;\n",
       "    }\n",
       "</style>\n",
       "<table border=\"1\" class=\"dataframe\">\n",
       "  <thead>\n",
       "    <tr style=\"text-align: right;\">\n",
       "      <th></th>\n",
       "      <th>Actual</th>\n",
       "      <th>Predicted</th>\n",
       "    </tr>\n",
       "  </thead>\n",
       "  <tbody>\n",
       "    <tr>\n",
       "      <th>0</th>\n",
       "      <td>31.0800</td>\n",
       "      <td>30.255200</td>\n",
       "    </tr>\n",
       "    <tr>\n",
       "      <th>1</th>\n",
       "      <td>860.1600</td>\n",
       "      <td>338.067786</td>\n",
       "    </tr>\n",
       "    <tr>\n",
       "      <th>2</th>\n",
       "      <td>-8.3520</td>\n",
       "      <td>-10.253225</td>\n",
       "    </tr>\n",
       "    <tr>\n",
       "      <th>3</th>\n",
       "      <td>-0.0060</td>\n",
       "      <td>-10.824998</td>\n",
       "    </tr>\n",
       "    <tr>\n",
       "      <th>4</th>\n",
       "      <td>15.0300</td>\n",
       "      <td>-7.357182</td>\n",
       "    </tr>\n",
       "    <tr>\n",
       "      <th>5</th>\n",
       "      <td>5.4600</td>\n",
       "      <td>4.952507</td>\n",
       "    </tr>\n",
       "    <tr>\n",
       "      <th>6</th>\n",
       "      <td>-0.3000</td>\n",
       "      <td>-12.617691</td>\n",
       "    </tr>\n",
       "    <tr>\n",
       "      <th>7</th>\n",
       "      <td>9.6600</td>\n",
       "      <td>-6.392505</td>\n",
       "    </tr>\n",
       "    <tr>\n",
       "      <th>8</th>\n",
       "      <td>3.6288</td>\n",
       "      <td>-11.619852</td>\n",
       "    </tr>\n",
       "    <tr>\n",
       "      <th>9</th>\n",
       "      <td>1.1400</td>\n",
       "      <td>-10.135655</td>\n",
       "    </tr>\n",
       "    <tr>\n",
       "      <th>10</th>\n",
       "      <td>183.4200</td>\n",
       "      <td>59.838651</td>\n",
       "    </tr>\n",
       "    <tr>\n",
       "      <th>11</th>\n",
       "      <td>-32.6760</td>\n",
       "      <td>0.384356</td>\n",
       "    </tr>\n",
       "    <tr>\n",
       "      <th>12</th>\n",
       "      <td>40.3704</td>\n",
       "      <td>6.676869</td>\n",
       "    </tr>\n",
       "    <tr>\n",
       "      <th>13</th>\n",
       "      <td>19.6800</td>\n",
       "      <td>19.683940</td>\n",
       "    </tr>\n",
       "    <tr>\n",
       "      <th>14</th>\n",
       "      <td>104.9508</td>\n",
       "      <td>70.984497</td>\n",
       "    </tr>\n",
       "    <tr>\n",
       "      <th>15</th>\n",
       "      <td>10.6200</td>\n",
       "      <td>-9.211172</td>\n",
       "    </tr>\n",
       "    <tr>\n",
       "      <th>16</th>\n",
       "      <td>5.1300</td>\n",
       "      <td>-7.975179</td>\n",
       "    </tr>\n",
       "    <tr>\n",
       "      <th>17</th>\n",
       "      <td>6.2720</td>\n",
       "      <td>-4.240067</td>\n",
       "    </tr>\n",
       "    <tr>\n",
       "      <th>18</th>\n",
       "      <td>1.0269</td>\n",
       "      <td>-12.701095</td>\n",
       "    </tr>\n",
       "    <tr>\n",
       "      <th>19</th>\n",
       "      <td>314.5590</td>\n",
       "      <td>114.872008</td>\n",
       "    </tr>\n",
       "  </tbody>\n",
       "</table>\n",
       "</div>"
      ],
      "text/plain": [
       "      Actual   Predicted\n",
       "0    31.0800   30.255200\n",
       "1   860.1600  338.067786\n",
       "2    -8.3520  -10.253225\n",
       "3    -0.0060  -10.824998\n",
       "4    15.0300   -7.357182\n",
       "5     5.4600    4.952507\n",
       "6    -0.3000  -12.617691\n",
       "7     9.6600   -6.392505\n",
       "8     3.6288  -11.619852\n",
       "9     1.1400  -10.135655\n",
       "10  183.4200   59.838651\n",
       "11  -32.6760    0.384356\n",
       "12   40.3704    6.676869\n",
       "13   19.6800   19.683940\n",
       "14  104.9508   70.984497\n",
       "15   10.6200   -9.211172\n",
       "16    5.1300   -7.975179\n",
       "17    6.2720   -4.240067\n",
       "18    1.0269  -12.701095\n",
       "19  314.5590  114.872008"
      ]
     },
     "execution_count": 30,
     "metadata": {},
     "output_type": "execute_result"
    }
   ],
   "source": [
    "# Create a dataframe comparing the actual and predicted values of y.\n",
    "data = pd.DataFrame({'Actual': y_test.flatten(), 'Predicted': y_predicted.flatten()})\n",
    "data.head(20)"
   ]
  },
  {
   "cell_type": "markdown",
   "id": "1ee86567",
   "metadata": {},
   "source": [
    "## Compare how the regression fits the training set"
   ]
  },
  {
   "cell_type": "code",
   "execution_count": 31,
   "id": "4043c42a",
   "metadata": {},
   "outputs": [],
   "source": [
    "y_predicted_train = regression.predict(X_train)"
   ]
  },
  {
   "cell_type": "code",
   "execution_count": 32,
   "id": "ea337848",
   "metadata": {},
   "outputs": [],
   "source": [
    "rmse = mean_squared_error(y_train, y_predicted_train)\n",
    "r2 = r2_score(y_train, y_predicted_train)"
   ]
  },
  {
   "cell_type": "code",
   "execution_count": 33,
   "id": "737ec64f",
   "metadata": {},
   "outputs": [
    {
     "name": "stdout",
     "output_type": "stream",
     "text": [
      "Slope: [[0.16747877]]\n",
      "Mean squared error:  21941.399600208297\n",
      "R2 score:  0.22266051286591915\n"
     ]
    }
   ],
   "source": [
    "print('Slope:' ,regression.coef_)\n",
    "print('Mean squared error: ', rmse)\n",
    "print('R2 score: ', r2)"
   ]
  },
  {
   "cell_type": "code",
   "execution_count": 35,
   "id": "e3a35131",
   "metadata": {},
   "outputs": [
    {
     "data": {
      "image/png": "[encoded data removed]",
      "text/plain": [
       "<Figure size 640x480 with 1 Axes>"
      ]
     },
     "metadata": {},
     "output_type": "display_data"
    }
   ],
   "source": [
    "# Visualizing the training set results.\n",
    "\n",
    "plot_test_2 = plt\n",
    "plot_test_2.scatter(X_train, y_train, color='green', s = 20)\n",
    "plot_test_2.plot(X_train, y_predicted_train, color='red', linewidth =3)\n",
    "plot_test_2.title('Profit vs Sales (Train set)')\n",
    "plot_test_2.xlabel('Sales')\n",
    "plot_test_2.ylabel('Profit')\n",
    "plot_test_2.show()"
   ]
  },
  {
   "cell_type": "markdown",
   "id": "ceb9f3d0",
   "metadata": {},
   "source": [
    "## Performance improvement after removing outliers"
   ]
  },
  {
   "cell_type": "code",
   "execution_count": 36,
   "id": "6909bd64",
   "metadata": {},
   "outputs": [
    {
     "data": {
      "text/html": [
       "<div>\n",
       "<style scoped>\n",
       "    .dataframe tbody tr th:only-of-type {\n",
       "        vertical-align: middle;\n",
       "    }\n",
       "\n",
       "    .dataframe tbody tr th {\n",
       "        vertical-align: top;\n",
       "    }\n",
       "\n",
       "    .dataframe thead th {\n",
       "        text-align: right;\n",
       "    }\n",
       "</style>\n",
       "<table border=\"1\" class=\"dataframe\">\n",
       "  <thead>\n",
       "    <tr style=\"text-align: right;\">\n",
       "      <th></th>\n",
       "      <th>id</th>\n",
       "      <th>sales</th>\n",
       "      <th>quantity</th>\n",
       "      <th>discount</th>\n",
       "      <th>profit</th>\n",
       "      <th>shipping_cost</th>\n",
       "      <th>year</th>\n",
       "      <th>month</th>\n",
       "    </tr>\n",
       "  </thead>\n",
       "  <tbody>\n",
       "    <tr>\n",
       "      <th>count</th>\n",
       "      <td>51290.00000</td>\n",
       "      <td>51290.000000</td>\n",
       "      <td>51290.000000</td>\n",
       "      <td>51290.000000</td>\n",
       "      <td>51290.000000</td>\n",
       "      <td>51290.000000</td>\n",
       "      <td>51290.000000</td>\n",
       "      <td>51290.000000</td>\n",
       "    </tr>\n",
       "    <tr>\n",
       "      <th>mean</th>\n",
       "      <td>25645.50000</td>\n",
       "      <td>246.490581</td>\n",
       "      <td>3.476545</td>\n",
       "      <td>0.142908</td>\n",
       "      <td>28.610982</td>\n",
       "      <td>26.375915</td>\n",
       "      <td>2012.777208</td>\n",
       "      <td>7.143420</td>\n",
       "    </tr>\n",
       "    <tr>\n",
       "      <th>std</th>\n",
       "      <td>14806.29199</td>\n",
       "      <td>487.565361</td>\n",
       "      <td>2.278766</td>\n",
       "      <td>0.212280</td>\n",
       "      <td>174.340972</td>\n",
       "      <td>57.296804</td>\n",
       "      <td>1.098931</td>\n",
       "      <td>3.394749</td>\n",
       "    </tr>\n",
       "    <tr>\n",
       "      <th>min</th>\n",
       "      <td>1.00000</td>\n",
       "      <td>0.444000</td>\n",
       "      <td>1.000000</td>\n",
       "      <td>0.000000</td>\n",
       "      <td>-6599.978000</td>\n",
       "      <td>0.000000</td>\n",
       "      <td>2011.000000</td>\n",
       "      <td>1.000000</td>\n",
       "    </tr>\n",
       "    <tr>\n",
       "      <th>25%</th>\n",
       "      <td>12823.25000</td>\n",
       "      <td>30.758625</td>\n",
       "      <td>2.000000</td>\n",
       "      <td>0.000000</td>\n",
       "      <td>0.000000</td>\n",
       "      <td>2.610000</td>\n",
       "      <td>2012.000000</td>\n",
       "      <td>4.000000</td>\n",
       "    </tr>\n",
       "    <tr>\n",
       "      <th>50%</th>\n",
       "      <td>25645.50000</td>\n",
       "      <td>85.053000</td>\n",
       "      <td>3.000000</td>\n",
       "      <td>0.000000</td>\n",
       "      <td>9.240000</td>\n",
       "      <td>7.790000</td>\n",
       "      <td>2013.000000</td>\n",
       "      <td>7.000000</td>\n",
       "    </tr>\n",
       "    <tr>\n",
       "      <th>75%</th>\n",
       "      <td>38467.75000</td>\n",
       "      <td>251.053200</td>\n",
       "      <td>5.000000</td>\n",
       "      <td>0.200000</td>\n",
       "      <td>36.810000</td>\n",
       "      <td>24.450000</td>\n",
       "      <td>2014.000000</td>\n",
       "      <td>10.000000</td>\n",
       "    </tr>\n",
       "    <tr>\n",
       "      <th>max</th>\n",
       "      <td>51290.00000</td>\n",
       "      <td>22638.480000</td>\n",
       "      <td>14.000000</td>\n",
       "      <td>0.850000</td>\n",
       "      <td>8399.976000</td>\n",
       "      <td>933.570000</td>\n",
       "      <td>2014.000000</td>\n",
       "      <td>12.000000</td>\n",
       "    </tr>\n",
       "  </tbody>\n",
       "</table>\n",
       "</div>"
      ],
      "text/plain": [
       "                id         sales      quantity      discount        profit  \\\n",
       "count  51290.00000  51290.000000  51290.000000  51290.000000  51290.000000   \n",
       "mean   25645.50000    246.490581      3.476545      0.142908     28.610982   \n",
       "std    14806.29199    487.565361      2.278766      0.212280    174.340972   \n",
       "min        1.00000      0.444000      1.000000      0.000000  -6599.978000   \n",
       "25%    12823.25000     30.758625      2.000000      0.000000      0.000000   \n",
       "50%    25645.50000     85.053000      3.000000      0.000000      9.240000   \n",
       "75%    38467.75000    251.053200      5.000000      0.200000     36.810000   \n",
       "max    51290.00000  22638.480000     14.000000      0.850000   8399.976000   \n",
       "\n",
       "       shipping_cost          year         month  \n",
       "count   51290.000000  51290.000000  51290.000000  \n",
       "mean       26.375915   2012.777208      7.143420  \n",
       "std        57.296804      1.098931      3.394749  \n",
       "min         0.000000   2011.000000      1.000000  \n",
       "25%         2.610000   2012.000000      4.000000  \n",
       "50%         7.790000   2013.000000      7.000000  \n",
       "75%        24.450000   2014.000000     10.000000  \n",
       "max       933.570000   2014.000000     12.000000  "
      ]
     },
     "execution_count": 36,
     "metadata": {},
     "output_type": "execute_result"
    }
   ],
   "source": [
    "df.describe()"
   ]
  },
  {
   "cell_type": "code",
   "execution_count": 38,
   "id": "bfbdcd78",
   "metadata": {},
   "outputs": [],
   "source": [
    "df_2 = df[df['sales'] < 600]"
   ]
  },
  {
   "cell_type": "code",
   "execution_count": 40,
   "id": "36f5343c",
   "metadata": {},
   "outputs": [
    {
     "data": {
      "image/png": "[encoded data removed]",
      "text/plain": [
       "<Figure size 640x480 with 1 Axes>"
      ]
     },
     "metadata": {},
     "output_type": "display_data"
    }
   ],
   "source": [
    "df_2.plot(x = 'sales', y='profit',style='o') \n",
    "plt.title('Profit vs Sales')  \n",
    "plt.xlabel('Sales')  \n",
    "plt.ylabel('Profit')  \n",
    "plt.show()"
   ]
  },
  {
   "cell_type": "code",
   "execution_count": 41,
   "id": "f29b340b",
   "metadata": {},
   "outputs": [],
   "source": [
    "X_2 = df_2['sales'].values.reshape(-1,1)\n",
    "y_2 = df_2['profit'].values.reshape(-1,1)"
   ]
  },
  {
   "cell_type": "code",
   "execution_count": 42,
   "id": "d174dbfc",
   "metadata": {},
   "outputs": [
    {
     "data": {
      "text/plain": [
       "array([[ 13.08],\n",
       "       [252.16],\n",
       "       [193.28],\n",
       "       ...,\n",
       "       [ 80.52],\n",
       "       [130.44],\n",
       "       [ 31.62]])"
      ]
     },
     "execution_count": 42,
     "metadata": {},
     "output_type": "execute_result"
    }
   ],
   "source": [
    "X_2"
   ]
  },
  {
   "cell_type": "code",
   "execution_count": 43,
   "id": "a5cfdc3b",
   "metadata": {},
   "outputs": [
    {
     "data": {
      "text/plain": [
       "array([[ 4.56],\n",
       "       [90.72],\n",
       "       [54.08],\n",
       "       ...,\n",
       "       [20.88],\n",
       "       [33.84],\n",
       "       [12.96]])"
      ]
     },
     "execution_count": 43,
     "metadata": {},
     "output_type": "execute_result"
    }
   ],
   "source": [
    "y_2"
   ]
  },
  {
   "cell_type": "code",
   "execution_count": 44,
   "id": "0ae93bc0",
   "metadata": {},
   "outputs": [],
   "source": [
    "X_2_train, X_2_test, y_2_train, y_2_test = train_test_split(X_2, y_2, test_size = 0.3, random_state = 0)"
   ]
  },
  {
   "cell_type": "code",
   "execution_count": 45,
   "id": "7fe5ae4f",
   "metadata": {},
   "outputs": [],
   "source": [
    "regression_2 = LinearRegression()"
   ]
  },
  {
   "cell_type": "code",
   "execution_count": 46,
   "id": "d7846c6f",
   "metadata": {},
   "outputs": [
    {
     "data": {
      "text/plain": [
       "LinearRegression()"
      ]
     },
     "execution_count": 46,
     "metadata": {},
     "output_type": "execute_result"
    }
   ],
   "source": [
    "regression_2.fit(X_2_train, y_2_train) "
   ]
  },
  {
   "cell_type": "code",
   "execution_count": 47,
   "id": "b3535711",
   "metadata": {},
   "outputs": [],
   "source": [
    "y_2_predicted = regression.predict(X_2_test)"
   ]
  },
  {
   "cell_type": "code",
   "execution_count": 49,
   "id": "54f35934",
   "metadata": {},
   "outputs": [
    {
     "data": {
      "image/png": "[encoded data removed]",
      "text/plain": [
       "<Figure size 640x480 with 1 Axes>"
      ]
     },
     "metadata": {},
     "output_type": "display_data"
    }
   ],
   "source": [
    "plot_test_3 = plt\n",
    "plot_test_3.scatter(X_2_test, y_2_test, color='gray', s = 20)\n",
    "plot_test_3.plot(X_2_test, y_2_predicted, color='red', linewidth =3)\n",
    "plot_test_3.title('Profit vs Sales(Test set)')\n",
    "plot_test_3.xlabel('Sales')\n",
    "plot_test_3.ylabel('Profit')\n",
    "plot_test_3.show()"
   ]
  },
  {
   "cell_type": "code",
   "execution_count": 50,
   "id": "2868cbbb",
   "metadata": {},
   "outputs": [],
   "source": [
    "rmse = mean_squared_error(y_2_test, y_2_predicted) \n",
    "r2 = r2_score(y_2_test, y_2_predicted)"
   ]
  },
  {
   "cell_type": "code",
   "execution_count": 51,
   "id": "fd157654",
   "metadata": {},
   "outputs": [
    {
     "name": "stdout",
     "output_type": "stream",
     "text": [
      "Slope: [[0.16747877]]\n",
      "Mean squared error:  4254.626895595757\n",
      "R2 score:  0.0249758756693077\n"
     ]
    }
   ],
   "source": [
    "print('Slope:' ,regression.coef_)\n",
    "print('Mean squared error: ', rmse)\n",
    "print('R2 score: ', r2)"
   ]
  },
  {
   "cell_type": "code",
   "execution_count": 52,
   "id": "5f06b5a6",
   "metadata": {},
   "outputs": [
    {
     "data": {
      "text/plain": [
       "array([[ 43.43912934],\n",
       "       [  7.90808906],\n",
       "       [ -6.0006043 ],\n",
       "       ...,\n",
       "       [ -7.09591548],\n",
       "       [-11.48218453],\n",
       "       [ -6.70736472]])"
      ]
     },
     "execution_count": 52,
     "metadata": {},
     "output_type": "execute_result"
    }
   ],
   "source": [
    "y_2_predicted"
   ]
  },
  {
   "cell_type": "code",
   "execution_count": 53,
   "id": "b2f78058",
   "metadata": {},
   "outputs": [
    {
     "data": {
      "text/html": [
       "<div>\n",
       "<style scoped>\n",
       "    .dataframe tbody tr th:only-of-type {\n",
       "        vertical-align: middle;\n",
       "    }\n",
       "\n",
       "    .dataframe tbody tr th {\n",
       "        vertical-align: top;\n",
       "    }\n",
       "\n",
       "    .dataframe thead th {\n",
       "        text-align: right;\n",
       "    }\n",
       "</style>\n",
       "<table border=\"1\" class=\"dataframe\">\n",
       "  <thead>\n",
       "    <tr style=\"text-align: right;\">\n",
       "      <th></th>\n",
       "      <th>Actual</th>\n",
       "      <th>Predicted</th>\n",
       "    </tr>\n",
       "  </thead>\n",
       "  <tbody>\n",
       "    <tr>\n",
       "      <th>0</th>\n",
       "      <td>94.8600</td>\n",
       "      <td>43.439129</td>\n",
       "    </tr>\n",
       "    <tr>\n",
       "      <th>1</th>\n",
       "      <td>-60.0825</td>\n",
       "      <td>7.908089</td>\n",
       "    </tr>\n",
       "    <tr>\n",
       "      <th>2</th>\n",
       "      <td>11.8584</td>\n",
       "      <td>-6.000604</td>\n",
       "    </tr>\n",
       "    <tr>\n",
       "      <th>3</th>\n",
       "      <td>14.5500</td>\n",
       "      <td>8.831316</td>\n",
       "    </tr>\n",
       "    <tr>\n",
       "      <th>4</th>\n",
       "      <td>20.8890</td>\n",
       "      <td>-4.823396</td>\n",
       "    </tr>\n",
       "    <tr>\n",
       "      <th>5</th>\n",
       "      <td>-34.2520</td>\n",
       "      <td>19.410615</td>\n",
       "    </tr>\n",
       "    <tr>\n",
       "      <th>6</th>\n",
       "      <td>-67.8510</td>\n",
       "      <td>51.578598</td>\n",
       "    </tr>\n",
       "    <tr>\n",
       "      <th>7</th>\n",
       "      <td>0.9900</td>\n",
       "      <td>-11.462087</td>\n",
       "    </tr>\n",
       "    <tr>\n",
       "      <th>8</th>\n",
       "      <td>5.9200</td>\n",
       "      <td>-10.803895</td>\n",
       "    </tr>\n",
       "    <tr>\n",
       "      <th>9</th>\n",
       "      <td>-11.3850</td>\n",
       "      <td>18.259533</td>\n",
       "    </tr>\n",
       "    <tr>\n",
       "      <th>10</th>\n",
       "      <td>38.7000</td>\n",
       "      <td>45.760385</td>\n",
       "    </tr>\n",
       "    <tr>\n",
       "      <th>11</th>\n",
       "      <td>0.0000</td>\n",
       "      <td>20.045694</td>\n",
       "    </tr>\n",
       "    <tr>\n",
       "      <th>12</th>\n",
       "      <td>-26.2800</td>\n",
       "      <td>-8.472591</td>\n",
       "    </tr>\n",
       "    <tr>\n",
       "      <th>13</th>\n",
       "      <td>11.8800</td>\n",
       "      <td>-2.277551</td>\n",
       "    </tr>\n",
       "    <tr>\n",
       "      <th>14</th>\n",
       "      <td>10.0000</td>\n",
       "      <td>-6.067596</td>\n",
       "    </tr>\n",
       "    <tr>\n",
       "      <th>15</th>\n",
       "      <td>7.9488</td>\n",
       "      <td>-10.462239</td>\n",
       "    </tr>\n",
       "    <tr>\n",
       "      <th>16</th>\n",
       "      <td>6.0400</td>\n",
       "      <td>-10.180874</td>\n",
       "    </tr>\n",
       "    <tr>\n",
       "      <th>17</th>\n",
       "      <td>83.2840</td>\n",
       "      <td>16.320966</td>\n",
       "    </tr>\n",
       "    <tr>\n",
       "      <th>18</th>\n",
       "      <td>4.5000</td>\n",
       "      <td>-3.815006</td>\n",
       "    </tr>\n",
       "    <tr>\n",
       "      <th>19</th>\n",
       "      <td>89.2200</td>\n",
       "      <td>86.322069</td>\n",
       "    </tr>\n",
       "  </tbody>\n",
       "</table>\n",
       "</div>"
      ],
      "text/plain": [
       "     Actual  Predicted\n",
       "0   94.8600  43.439129\n",
       "1  -60.0825   7.908089\n",
       "2   11.8584  -6.000604\n",
       "3   14.5500   8.831316\n",
       "4   20.8890  -4.823396\n",
       "5  -34.2520  19.410615\n",
       "6  -67.8510  51.578598\n",
       "7    0.9900 -11.462087\n",
       "8    5.9200 -10.803895\n",
       "9  -11.3850  18.259533\n",
       "10  38.7000  45.760385\n",
       "11   0.0000  20.045694\n",
       "12 -26.2800  -8.472591\n",
       "13  11.8800  -2.277551\n",
       "14  10.0000  -6.067596\n",
       "15   7.9488 -10.462239\n",
       "16   6.0400 -10.180874\n",
       "17  83.2840  16.320966\n",
       "18   4.5000  -3.815006\n",
       "19  89.2200  86.322069"
      ]
     },
     "execution_count": 53,
     "metadata": {},
     "output_type": "execute_result"
    }
   ],
   "source": [
    "data_2 = pd.DataFrame({'Actual': y_2_test.flatten(), 'Predicted': y_2_predicted.flatten()})\n",
    "data_2.head(20)"
   ]
  },
  {
   "cell_type": "markdown",
   "id": "60a97b38",
   "metadata": {},
   "source": [
    "## Regression Analysis Conclusion:\n",
    "#### Independent variable:Sales , Dependent variable : Profit\n",
    "#### Hypothesis: Higher sales result in higher profits and the highest profit margin belongs to sales between 5000 and 20000\n",
    "#### I performed linear regression analysis on three sample data sets( training and test dataset without excluding outliers, and training dataset after excluding outlier points).\n",
    "#### All three results show that: \n",
    "#### The slope ( coefficient regression) is 0.167 which means there is a so weak positive coefficient between to variables\n",
    "#### A quite large rmse (Mean squared error), mse is an estimator that tells how close a regression line is to a set of points. ( and the large number means high distance)\n",
    "#### A low R2 score ( less than 0.3) which explane the variance in the data\n",
    "#### Based on above results and also comparing Actual and Predicted amounts of dependent variable (here profit), It can be concluded that linear regression is not suitable for analyzing the relationships and the effect of the independent variable on the dependent variable, It seems other variables should be investigated and other methods should be used."
   ]
  },
  {
   "cell_type": "code",
   "execution_count": null,
   "id": "745180e9",
   "metadata": {},
   "outputs": [],
   "source": []
  }
 ],
 "metadata": {
  "kernelspec": {
   "display_name": "Python 3 (ipykernel)",
   "language": "python",
   "name": "python3"
  },
  "language_info": {
   "codemirror_mode": {
    "name": "ipython",
    "version": 3
   },
   "file_extension": ".py",
   "mimetype": "text/x-python",
   "name": "python",
   "nbconvert_exporter": "python",
   "pygments_lexer": "ipython3",
   "version": "3.9.13"
  }
 },
 "nbformat": 4,
 "nbformat_minor": 5
}
